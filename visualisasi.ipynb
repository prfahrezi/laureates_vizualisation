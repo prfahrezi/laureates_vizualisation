{
 "cells": [
  {
   "cell_type": "code",
   "execution_count": 1,
   "outputs": [],
   "source": [
    "import pandas as pd\n",
    "import matplotlib.pyplot as plt"
   ],
   "metadata": {
    "collapsed": false,
    "pycharm": {
     "name": "#%%\n"
    }
   }
  },
  {
   "cell_type": "markdown",
   "source": [
    "Membaca file DataFrame.csv"
   ],
   "metadata": {
    "collapsed": false
   }
  },
  {
   "cell_type": "code",
   "execution_count": 6,
   "metadata": {
    "collapsed": true
   },
   "outputs": [
    {
     "name": "stdout",
     "output_type": "stream",
     "text": [
      "id                   False\n",
      "firstname             True\n",
      "surname               True\n",
      "born                 False\n",
      "died                 False\n",
      "bornCountry           True\n",
      "bornCountryCode       True\n",
      "bornCity              True\n",
      "diedCountry           True\n",
      "diedCountryCode       True\n",
      "diedCity              True\n",
      "gender               False\n",
      "year                  True\n",
      "category              True\n",
      "overallMotivation     True\n",
      "share                 True\n",
      "motivation            True\n",
      "name                  True\n",
      "city                  True\n",
      "country               True\n",
      "dtype: bool\n"
     ]
    }
   ],
   "source": [
    "lr = pd.read_csv(r'D:\\temp\\tubes2\\harvardnobeldata\\laureate.csv')"
   ]
  },
  {
   "cell_type": "markdown",
   "source": [
    "Cleansing Data"
   ],
   "metadata": {
    "collapsed": false
   }
  },
  {
   "cell_type": "markdown",
   "source": [
    "Data kotor: data nama negara yang masih merujuk nama pada tahun tertentu sebelum namanya seperti sekarang. Contoh: seorang nobel laureate lahir di Polandia yang saat itu dikuasai Jerman, sehingga pada data dituliskan 'German-occupied Poland (now Poland)'\n",
    "Data kotor diubah dengan nama negara yang mengikuti kondisi zaman sekarang\n",
    "\n",
    "Data kotor: data tak bernilai (NaN)\n",
    "Data kotor ditangani dengan menghapus baris terkait"
   ],
   "metadata": {
    "collapsed": false
   }
  },
  {
   "cell_type": "code",
   "execution_count": null,
   "outputs": [],
   "source": [
    "cntry_born = lr['bornCountry'].tolist()\n",
    "for i in range(len(cntry_born)):\n",
    "    if pd.isna(cntry_born[i]) == True:\n",
    "        pass\n",
    "    else:\n",
    "        if 'now' in cntry_born[i]:\n",
    "            cntry_born[i] = cntry_born[i].replace(')', '').replace('(', '')\n",
    "            splt = cntry_born[i].split(' ')\n",
    "            if splt[-2] == 'now':\n",
    "                cntry_born[i] = splt[-1]\n",
    "            else:\n",
    "                cntry_born[i] = ' '.join(splt[splt.index('now') + 1:-1]) + ' ' + splt[-1]\n",
    "lr['bornCountry'] = cntry_born\n",
    "lr.loc[lr['country'] == 'Alsace (then Germany, now France)', 'country'] = 'France'; lr.loc[lr['country'] == 'Federal Republic of Germany', 'country'] = 'Germany'; lr.loc[lr['country'] == 'USSR', 'country'] = 'Russia'\n",
    "lr = lr.dropna(subset=['country', 'bornCountry'])"
   ],
   "metadata": {
    "collapsed": false,
    "pycharm": {
     "name": "#%%\n"
    }
   }
  },
  {
   "cell_type": "markdown",
   "source": [
    "Data kotor: daftar orang dengan tanggal kelahiran & kematian '0000-00-00'\n",
    "Dapat ditangani dengan memilih data dengan tanggal kelahiran & kematian yang lebih jelas saja."
   ],
   "metadata": {
    "collapsed": false
   }
  },
  {
   "cell_type": "code",
   "execution_count": null,
   "outputs": [],
   "source": [
    "lr = lr.loc[(lr['born'] != '0000-00-00') & (lr['died'] != '0000-00-00')]"
   ],
   "metadata": {
    "collapsed": false,
    "pycharm": {
     "name": "#%%\n"
    }
   }
  },
  {
   "cell_type": "markdown",
   "source": [
    "Data kotor: NaN yang memenuhi satu kolom\n",
    "Data kotor ditangani dengan menghapus kolom"
   ],
   "metadata": {
    "collapsed": false
   }
  },
  {
   "cell_type": "code",
   "execution_count": null,
   "outputs": [],
   "source": [
    "lr = lr.drop(['overallMotivation'], axis=1)"
   ],
   "metadata": {
    "collapsed": false,
    "pycharm": {
     "name": "#%%\n"
    }
   }
  },
  {
   "cell_type": "markdown",
   "source": [
    "Penambahan atribut baru 'age_at_prize' yaitu usia laureates saat menerima Nobel Prize"
   ],
   "metadata": {
    "collapsed": false
   }
  },
  {
   "cell_type": "code",
   "execution_count": null,
   "outputs": [],
   "source": [
    "lr['age_at_prize'] = lr['year'] - lr['born'].apply(lambda x: x.split('-')[0]).astype(float)"
   ],
   "metadata": {
    "collapsed": false,
    "pycharm": {
     "name": "#%%\n"
    }
   }
  },
  {
   "cell_type": "markdown",
   "source": [
    "Visualisasi jumlah Nobel laureates yang merupakan imigran"
   ],
   "metadata": {
    "collapsed": false
   }
  },
  {
   "cell_type": "code",
   "execution_count": null,
   "outputs": [],
   "source": [
    "ctries = lr.groupby('country').size().sort_values(ascending=False).rename('Keseluruhan')\n",
    "#imigran dicari dari perbedaan antara data negara yang diwakilkan dan data negara kelahiran tiap laureate\n",
    "lr_imm = lr.loc[lr['bornCountry'] != lr['country']]\n",
    "imm_cntry = lr_imm.groupby('country').size().sort_values(ascending=False).rename('Imigran')\n",
    "imm_cntry.plot.bar(figsize=(13,5), color='orange')\n",
    "plt.title('Jumlah Nobel Laureates yang merupakan Imigran'); plt.xlabel('Negara'); plt.ylabel('Jumlah Laureates')"
   ],
   "metadata": {
    "collapsed": false,
    "pycharm": {
     "name": "#%%\n"
    }
   }
  },
  {
   "cell_type": "markdown",
   "source": [
    "Visualisasi perbandingan jumlah laureates yang pernah mendapat satu kali penghargaan & yang lebih dari sekali"
   ],
   "metadata": {
    "collapsed": false
   }
  },
  {
   "cell_type": "code",
   "execution_count": null,
   "outputs": [],
   "source": [
    "pog = lr[['firstname', 'surname']].value_counts()\n",
    "pogdf = pog.to_frame().reset_index()\n",
    "pogdf.rename(columns={0:'freq'}, inplace=True)\n",
    "pogdf['freq'].value_counts().plot.barh(figsize=(15,5), xticks=range(0,900,50))\n",
    "plt.xlabel('Jumlah Laureates'); plt.ylabel('Total Penghargaan')"
   ],
   "metadata": {
    "collapsed": false,
    "pycharm": {
     "name": "#%%\n"
    }
   }
  },
  {
   "cell_type": "markdown",
   "source": [
    "Visualisasi perubahan jumlah laureates berdasarkan gender terhadap waktu"
   ],
   "metadata": {
    "collapsed": false
   }
  },
  {
   "cell_type": "code",
   "execution_count": null,
   "outputs": [],
   "source": [
    "female = lr.loc[lr['gender'] == 'female'][['year']]\n",
    "female = female['year'].value_counts().sort_index(ascending=True).rename('Female')\n",
    "male = lr.loc[lr['gender'] == 'male'][['year']]\n",
    "male = male['year'].value_counts().sort_index(ascending=True).rename('Male')\n",
    "df = pd.concat([female, male], axis=1).fillna(0)\n",
    "df.plot(figsize=(18,5), xticks=range(1900,2020,5))\n",
    "plt.legend(['Female', 'Male'])"
   ],
   "metadata": {
    "collapsed": false,
    "pycharm": {
     "name": "#%%\n"
    }
   }
  },
  {
   "cell_type": "markdown",
   "source": [
    "Visualisasi Hierarki & Keseluruhan-Bagian pada pembagian hadiah\n",
    "Seorang diri: Hadiah diberikan seutuhnya untuk satu orang\n",
    "1/2 hadiah: Hadiah dibagi rata untuk dua orang\n",
    "1/3 hadiah: Hadiah dibagi untuk 3 orang\n",
    "1/4 hadiah: Hadiah dibagi untuk 4 orang"
   ],
   "metadata": {
    "collapsed": false
   }
  },
  {
   "cell_type": "code",
   "execution_count": null,
   "outputs": [],
   "source": [
    "import squarify\n",
    "\n",
    "area = lr.groupby('share').size()\n",
    "labels = ['Seorang diri:\\n158 orang', '1/2 hadiah:\\n164 orang',\n",
    "          '1/3 hadiah:\\n99 orang', '1/4 hadiah:\\n24 orang']\n",
    "color_list = ['#EB96EB', '#AF38EB', '#4073FF',\n",
    "              '#14AAF5']\n",
    "\n",
    "plt.rc('font', size=12)\n",
    "squarify.plot(sizes=area, label=labels,\n",
    "              color=color_list, alpha=0.7)\n",
    "plt.axis('off')\n",
    "plt.figure(figsize=(10,10))\n",
    "\n",
    "plt.show()"
   ],
   "metadata": {
    "collapsed": false,
    "pycharm": {
     "name": "#%%\n"
    }
   }
  },
  {
   "cell_type": "markdown",
   "source": [
    "Visualisasi Hierarki & Keseluruhan-Bagian antara jumlah imigran & native yang menyusun keseluruhan jumlah Nobel Laureates"
   ],
   "metadata": {
    "collapsed": false
   }
  },
  {
   "cell_type": "code",
   "execution_count": null,
   "outputs": [],
   "source": [
    "lr_noimm = lr.loc[lr['bornCountry'] == lr['country']]\n",
    "noimm_cntry = lr_noimm.groupby('country').size().rename('Warga Asli')\n",
    "df = pd.concat([noimm_cntry, imm_cntry], axis=1)\n",
    "df.plot.barh(figsize=(13,10), stacked=True)\n",
    "plt.title('Imigran & Warga Asli'); plt.xlabel('Negara'); plt.ylabel('Jumlah Laureates')"
   ],
   "metadata": {
    "collapsed": false,
    "pycharm": {
     "name": "#%%\n"
    }
   }
  },
  {
   "cell_type": "markdown",
   "source": [
    "Visualisasi Plotting-Relationships antara gender dan tahun"
   ],
   "metadata": {
    "collapsed": false
   }
  },
  {
   "cell_type": "code",
   "execution_count": null,
   "outputs": [],
   "source": [
    "import seaborn as sb\n",
    "\n",
    "df = pd.concat([female, male], axis=1).fillna(0);df.index.names = ['year']; df = df.reset_index()\n",
    "year = df['year'].tolist()\n",
    "for i in range(0, 105, 5):\n",
    "    for j in range(1, 5):\n",
    "        year[i+j] = year[i]\n",
    "df['year'] = year\n",
    "df2 = pd.concat([df.groupby('year')['Male'].sum(), df.groupby('year')['Female'].sum()], axis=1)\n",
    "plt.figure(figsize=(7,7)); sb.heatmap(df2, linewidths = .5)"
   ],
   "metadata": {
    "collapsed": false,
    "pycharm": {
     "name": "#%%\n"
    }
   }
  },
  {
   "cell_type": "code",
   "execution_count": null,
   "outputs": [],
   "source": [
    "lr.plot.scatter('year', 'age_at_prize')\n",
    "sb.FacetGrid(lr).map(sb.regplot, 'year', 'age_at_prize')"
   ],
   "metadata": {
    "collapsed": false,
    "pycharm": {
     "name": "#%%\n"
    }
   }
  }
 ],
 "metadata": {
  "kernelspec": {
   "display_name": "Python 3",
   "language": "python",
   "name": "python3"
  },
  "language_info": {
   "codemirror_mode": {
    "name": "ipython",
    "version": 2
   },
   "file_extension": ".py",
   "mimetype": "text/x-python",
   "name": "python",
   "nbconvert_exporter": "python",
   "pygments_lexer": "ipython2",
   "version": "2.7.6"
  }
 },
 "nbformat": 4,
 "nbformat_minor": 0
}