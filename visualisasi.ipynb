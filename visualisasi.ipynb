{
 "cells": [
  {
   "cell_type": "code",
   "execution_count": 116,
   "outputs": [],
   "source": [
    "import pandas as pd\n",
    "import matplotlib.pyplot as plt"
   ],
   "metadata": {
    "collapsed": false,
    "pycharm": {
     "name": "#%%\n"
    }
   }
  },
  {
   "cell_type": "markdown",
   "source": [
    "Membaca file DataFrame.csv"
   ],
   "metadata": {
    "collapsed": false
   }
  },
  {
   "cell_type": "code",
   "execution_count": 117,
   "metadata": {
    "collapsed": true
   },
   "outputs": [],
   "source": [
    "lr = pd.read_csv(r'D:\\temp\\tubes2\\harvardnobeldata\\laureate.csv')"
   ]
  },
  {
   "cell_type": "markdown",
   "source": [
    "Cleansing Data untuk perbandingan imigran"
   ],
   "metadata": {
    "collapsed": false
   }
  },
  {
   "cell_type": "markdown",
   "source": [
    "Data kotor: data nama negara yang masih merujuk nama pada tahun tertentu sebelum namanya seperti sekarang. Contoh: seorang laureate lahir di Polandia yang saat itu dikuasai Jerman, sehingga pada data dituliskan 'German-occupied Poland (now Poland)'\n",
    "Data kotor diubah dengan nama negara yang mengikuti kondisi zaman sekarang\n",
    "\n",
    "Data kotor: data hilang (NaN)\n",
    "Data kotor ditangani dengan menghapus baris terkait"
   ],
   "metadata": {
    "collapsed": false
   }
  },
  {
   "cell_type": "code",
   "execution_count": null,
   "outputs": [],
   "source": [
    "cntry_born = lr['bornCountry'].tolist()\n",
    "for i in range(len(cntry_born)):\n",
    "    if pd.isna(cntry_born[i]) == True:\n",
    "        pass\n",
    "    else:\n",
    "        if 'now' in cntry_born[i]:\n",
    "            cntry_born[i] = cntry_born[i].replace(')', '').replace('(', '')\n",
    "            splt = cntry_born[i].split(' ')\n",
    "            if splt[-2] == 'now':\n",
    "                cntry_born[i] = splt[-1]\n",
    "            else:\n",
    "                cntry_born[i] = ' '.join(splt[splt.index('now') + 1:-1]) + ' ' + splt[-1]\n",
    "lr['bornCountry'] = cntry_born\n",
    "lr.loc[lr['country'] == 'Alsace (then Germany, now France)']['country'] = 'France'; lr.loc[lr['country'] == 'Federal Republic of Germany']['country'] = 'Germany'; lr.loc[lr['country'] == 'USSR']['country'] = 'Russia'\n",
    "lr = lr.dropna(subset=['bornCountry', 'country'])"
   ],
   "metadata": {
    "collapsed": false,
    "pycharm": {
     "name": "#%%\n",
     "is_executing": true
    }
   }
  },
  {
   "cell_type": "markdown",
   "source": [
    "Penambahan atribut baru 'age_at_prize' yaitu usia laureates saat menerima nobel prize"
   ],
   "metadata": {
    "collapsed": false
   }
  },
  {
   "cell_type": "code",
   "execution_count": 126,
   "outputs": [
    {
     "name": "stdout",
     "output_type": "stream",
     "text": [
      "0      56.0\n",
      "1      49.0\n",
      "2      37.0\n",
      "3      51.0\n",
      "4      44.0\n",
      "       ... \n",
      "874    79.0\n",
      "880    71.0\n",
      "881    71.0\n",
      "886    68.0\n",
      "913    89.0\n",
      "Name: age_at_prize, Length: 445, dtype: float64\n",
      "      id       firstname    surname        born        died      bornCountry  \\\n",
      "0      1  Wilhelm Conrad    Röntgen  1845-03-27  1923-02-10          Germany   \n",
      "1      2  Hendrik Antoon    Lorentz  1853-07-18  1928-02-04  the Netherlands   \n",
      "2      3          Pieter     Zeeman  1865-05-25  1943-10-09  the Netherlands   \n",
      "3      4   Antoine Henri  Becquerel  1852-12-15  1908-08-25           France   \n",
      "4      5          Pierre      Curie  1859-05-15  1906-04-19           France   \n",
      "..   ...             ...        ...         ...         ...              ...   \n",
      "874  851      Richard F.       Heck  1931-08-15  2015-10-09              USA   \n",
      "880  857         Dale T.  Mortensen  1939-02-02  2014-01-09              USA   \n",
      "881  857         Dale T.  Mortensen  1939-02-02  2014-01-09              USA   \n",
      "886  863        Ralph M.   Steinman  1943-01-14  2011-09-30           Canada   \n",
      "913  883        Lloyd S.    Shapley  1923-06-02  2016-03-12              USA   \n",
      "\n",
      "    bornCountryCode                bornCity      diedCountry diedCountryCode  \\\n",
      "0                DE  Lennep (now Remscheid)          Germany              DE   \n",
      "1                NL                  Arnhem  the Netherlands              NL   \n",
      "2                NL              Zonnemaire  the Netherlands              NL   \n",
      "3                FR                   Paris           France              FR   \n",
      "4                FR                   Paris           France              FR   \n",
      "..              ...                     ...              ...             ...   \n",
      "874              US         Springfield, MA      Philippines             NaN   \n",
      "880              US          Enterprise, OR              USA              US   \n",
      "881              US          Enterprise, OR              USA              US   \n",
      "886              CA                Montreal              NaN             NaN   \n",
      "913              US           Cambridge, MA              USA              US   \n",
      "\n",
      "     ...    year   category  overallMotivation share  \\\n",
      "0    ...  1901.0    physics                NaN   1.0   \n",
      "1    ...  1902.0    physics                NaN   2.0   \n",
      "2    ...  1902.0    physics                NaN   2.0   \n",
      "3    ...  1903.0    physics                NaN   2.0   \n",
      "4    ...  1903.0    physics                NaN   4.0   \n",
      "..   ...     ...        ...                ...   ...   \n",
      "874  ...  2010.0  chemistry                NaN   3.0   \n",
      "880  ...  2010.0  economics                NaN   3.0   \n",
      "881  ...  2010.0  economics                NaN   3.0   \n",
      "886  ...  2011.0   medicine                NaN   2.0   \n",
      "913  ...  2012.0  economics                NaN   2.0   \n",
      "\n",
      "                                            motivation  \\\n",
      "0    \"in recognition of the extraordinary services ...   \n",
      "1    \"in recognition of the extraordinary service t...   \n",
      "2    \"in recognition of the extraordinary service t...   \n",
      "3    \"in recognition of the extraordinary services ...   \n",
      "4    \"in recognition of the extraordinary services ...   \n",
      "..                                                 ...   \n",
      "874  \"for palladium-catalyzed cross couplings in or...   \n",
      "880  \"for their analysis of markets with search fri...   \n",
      "881  \"for their analysis of markets with search fri...   \n",
      "886  \"for his discovery of the dendritic cell and i...   \n",
      "913  \"for the theory of stable allocations and the ...   \n",
      "\n",
      "                                                  name             city  \\\n",
      "0                                    Munich University           Munich   \n",
      "1                                    Leiden University           Leiden   \n",
      "2                                 Amsterdam University        Amsterdam   \n",
      "3                                  École Polytechnique            Paris   \n",
      "4    École municipale de physique et de chimie indu...            Paris   \n",
      "..                                                 ...              ...   \n",
      "874                             University of Delaware              NaN   \n",
      "880                            Northwestern University     Evanston, IL   \n",
      "881                                  Aarhus University           Aarhus   \n",
      "886                             Rockefeller University     New York, NY   \n",
      "913                           University of California  Los Angeles, CA   \n",
      "\n",
      "             country yearBorn age_at_prize  \n",
      "0            Germany   1845.0         56.0  \n",
      "1    the Netherlands   1853.0         49.0  \n",
      "2    the Netherlands   1865.0         37.0  \n",
      "3             France   1852.0         51.0  \n",
      "4             France   1859.0         44.0  \n",
      "..               ...      ...          ...  \n",
      "874              USA   1931.0         79.0  \n",
      "880              USA   1939.0         71.0  \n",
      "881          Denmark   1939.0         71.0  \n",
      "886              USA   1943.0         68.0  \n",
      "913              USA   1923.0         89.0  \n",
      "\n",
      "[445 rows x 22 columns]\n"
     ]
    }
   ],
   "source": [
    "lr = lr.loc[(lr['born'] != '0000-00-00') & (lr['died'] != '0000-00-00')]\n",
    "lr['age_at_prize'] = lr['year'] - lr['born'].apply(lambda x: x.split('-')[0]).astype(float)\n",
    "print(lr['age_at_prize'])\n",
    "print(lr)"
   ],
   "metadata": {
    "collapsed": false,
    "pycharm": {
     "name": "#%%\n"
    }
   }
  },
  {
   "cell_type": "code",
   "execution_count": 120,
   "outputs": [
    {
     "data": {
      "text/plain": "Text(0, 0.5, 'Jumlah Laureates')"
     },
     "execution_count": 120,
     "metadata": {},
     "output_type": "execute_result"
    },
    {
     "data": {
      "text/plain": "<Figure size 936x360 with 1 Axes>",
      "image/png": "[encoded data removed]"
     },
     "metadata": {
      "needs_background": "light"
     },
     "output_type": "display_data"
    }
   ],
   "source": [
    "ctries = lr.groupby('country').size().sort_values(ascending=False).rename('Keseluruhan')\n",
    "lr1 = lr.loc[lr['bornCountry'] != lr['country']]\n",
    "imm_cntry = lr1.groupby('country').size().sort_values(ascending=False).rename('Imigran')\n",
    "df = pd.concat([ctries, imm_cntry], axis=1)\n",
    "df.plot.bar(figsize=(13,5))\n",
    "plt.xlabel('Negara'); plt.ylabel('Jumlah Laureates')"
   ],
   "metadata": {
    "collapsed": false,
    "pycharm": {
     "name": "#%%\n"
    }
   }
  }
 ],
 "metadata": {
  "kernelspec": {
   "display_name": "Python 3",
   "language": "python",
   "name": "python3"
  },
  "language_info": {
   "codemirror_mode": {
    "name": "ipython",
    "version": 2
   },
   "file_extension": ".py",
   "mimetype": "text/x-python",
   "name": "python",
   "nbconvert_exporter": "python",
   "pygments_lexer": "ipython2",
   "version": "2.7.6"
  }
 },
 "nbformat": 4,
 "nbformat_minor": 0
}